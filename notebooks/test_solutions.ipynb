{
 "cells": [
  {
   "cell_type": "code",
   "execution_count": 1,
   "metadata": {},
   "outputs": [],
   "source": [
    "import numpy as np"
   ]
  },
  {
   "cell_type": "code",
   "execution_count": 2,
   "metadata": {},
   "outputs": [],
   "source": [
    "def sym(M):\n",
    "    sym_M = (M + M.T) / 2\n",
    "    return sym_M\n",
    "\n",
    "\n",
    "def mat(vec, shape):\n",
    "        M = vec.reshape(shape, order='F')\n",
    "\n",
    "        return M\n",
    "\n",
    "def vec(M):\n",
    "        v = M.reshape((-1, 1), order='F')\n",
    "        \n",
    "        return v\n"
   ]
  },
  {
   "cell_type": "code",
   "execution_count": 3,
   "metadata": {},
   "outputs": [],
   "source": [
    "n = 2\n",
    "k = 3\n",
    "κ = 1e-4\n",
    "\n",
    "# X_t: 2x1, W_t: 3x1\n",
    "ψ_q = κ * np.array([[1.], [2.]])\n",
    "ψ_x = κ * np.array([[3., 4.],\n",
    "                    [5., 6.]])\n",
    "ψ_w = κ * np.array([[7., 8., 9.],\n",
    "                    [10., 11., 12.]])\n",
    "\n",
    "ψ_qq = κ * np.array([[13.],\n",
    "                     [14.]])\n",
    "\n",
    "ψ_xq = κ * np.array([[15., 16.],\n",
    "                     [17., 18.]])\n",
    "\n",
    "ψ_xx = κ * np.array([[19., 20., 21., 22.],\n",
    "                     [23., 24., 25., 26.]])\n",
    "\n",
    "ψ_xw = κ * np.array([[27., 28., 29., 30., 31., 32.],\n",
    "                     [33., 34., 35., 36., 37., 38.]])\n",
    "\n",
    "ψ_wq = κ * np.array([[39., 40., 41.],\n",
    "                     [42., 43., 44.]])\n",
    "\n",
    "ψ_ww = κ * np.array([[45., 46., 47., 48., 49., 50., 51., 52., 53.],\n",
    "                     [54., 55., 56., 57., 58., 59., 60., 61., 62.]])\n",
    "\n",
    "# Y_t: 1x1\n",
    "Γ_0 = κ * np.array([[63.]])\n",
    "\n",
    "Γ_1 = κ * np.array([[64., 65.]])\n",
    "\n",
    "Γ_2 = κ * np.array([[66., 67.]])\n",
    "\n",
    "Γ_3 = κ * np.array([[68., 69., 70., 71.]])\n",
    "\n",
    "Ψ_0 = κ * np.array([[72., 73., 74.]])\n",
    "\n",
    "Ψ_1 = κ * np.array([[75., 76., 77., 78., 79., 80.]])\n",
    "\n",
    "Ψ_2 = κ * np.array([[81., 82., 83., 84., 85., 86., 87., 88., 89.]])"
   ]
  },
  {
   "cell_type": "code",
   "execution_count": 4,
   "metadata": {},
   "outputs": [],
   "source": [
    "Θ_10 = ψ_q\n",
    "Θ_11 = ψ_x\n",
    "Λ_10 = ψ_w\n",
    "Θ_20 = ψ_qq\n",
    "Θ_21 = 2 * ψ_xq\n",
    "Θ_22 = ψ_x\n",
    "Θ_23 = ψ_xx\n",
    "Λ_20 = 2 * ψ_wq\n",
    "Λ_21 = 2 * ψ_xw\n",
    "Λ_22 = ψ_ww"
   ]
  },
  {
   "cell_type": "markdown",
   "metadata": {},
   "source": [
    "# $\\bar{\\Gamma}_0$"
   ]
  },
  {
   "cell_type": "code",
   "execution_count": 5,
   "metadata": {},
   "outputs": [],
   "source": [
    "modif_Ψ_2 = np.eye(k) - sym(2 * Ψ_2.reshape((k, k), order='F'))\n",
    "det_term = np.linalg.det(modif_Ψ_2)"
   ]
  },
  {
   "cell_type": "code",
   "execution_count": 6,
   "metadata": {},
   "outputs": [
    {
     "data": {
      "text/plain": [
       "array([[0.03255799]])"
      ]
     },
     "execution_count": 6,
     "metadata": {},
     "output_type": "execute_result"
    }
   ],
   "source": [
    "Γ_0_bar = Γ_0 - 1 / 2 * np.log(det_term) + 1 / 2 * Ψ_0 @ np.linalg.inv(modif_Ψ_2) @ Ψ_0.T\n",
    "Γ_0_bar"
   ]
  },
  {
   "cell_type": "markdown",
   "metadata": {},
   "source": [
    "# $\\bar{\\Gamma}_1$"
   ]
  },
  {
   "cell_type": "code",
   "execution_count": 7,
   "metadata": {},
   "outputs": [
    {
     "data": {
      "text/plain": [
       "array([[0.0064, 0.0065]])"
      ]
     },
     "execution_count": 7,
     "metadata": {},
     "output_type": "execute_result"
    }
   ],
   "source": [
    "Γ_1"
   ]
  },
  {
   "cell_type": "code",
   "execution_count": 8,
   "metadata": {},
   "outputs": [
    {
     "data": {
      "text/plain": [
       "array([[0.00017541, 0.00018233]])"
      ]
     },
     "execution_count": 8,
     "metadata": {},
     "output_type": "execute_result"
    }
   ],
   "source": [
    "Ψ_0 @ np.linalg.inv(modif_Ψ_2) @ mat(Ψ_1, (k, n))"
   ]
  },
  {
   "cell_type": "code",
   "execution_count": 9,
   "metadata": {},
   "outputs": [],
   "source": [
    "Γ_1_bar = Γ_1 + Ψ_0 @ np.linalg.inv(modif_Ψ_2) @ mat(Ψ_1, (k, n))"
   ]
  },
  {
   "cell_type": "code",
   "execution_count": 10,
   "metadata": {},
   "outputs": [
    {
     "data": {
      "text/plain": [
       "array([[0.00657541, 0.00668233]])"
      ]
     },
     "execution_count": 10,
     "metadata": {},
     "output_type": "execute_result"
    }
   ],
   "source": [
    "Γ_1_bar"
   ]
  },
  {
   "cell_type": "markdown",
   "metadata": {},
   "source": [
    "# $\\bar{\\Gamma}_2$"
   ]
  },
  {
   "cell_type": "code",
   "execution_count": 11,
   "metadata": {},
   "outputs": [],
   "source": [
    "Γ_2_bar = Γ_2"
   ]
  },
  {
   "cell_type": "markdown",
   "metadata": {},
   "source": [
    "# $\\bar{\\Gamma}_3$"
   ]
  },
  {
   "cell_type": "code",
   "execution_count": 12,
   "metadata": {},
   "outputs": [
    {
     "data": {
      "text/plain": [
       "array([[0.0068, 0.0069, 0.007 , 0.0071]])"
      ]
     },
     "execution_count": 12,
     "metadata": {},
     "output_type": "execute_result"
    }
   ],
   "source": [
    "Γ_3"
   ]
  },
  {
   "cell_type": "code",
   "execution_count": 13,
   "metadata": {},
   "outputs": [
    {
     "data": {
      "text/plain": [
       "array([[9.13081155e-05, 9.49119506e-05, 9.49119506e-05, 9.86580408e-05]])"
      ]
     },
     "execution_count": 13,
     "metadata": {},
     "output_type": "execute_result"
    }
   ],
   "source": [
    "1 / 2 * vec(mat(Ψ_1, (k, n)).T @ (np.linalg.inv(modif_Ψ_2)) @ mat(Ψ_1, (k, n))).T"
   ]
  },
  {
   "cell_type": "code",
   "execution_count": 14,
   "metadata": {},
   "outputs": [
    {
     "data": {
      "text/plain": [
       "array([[0.00689131, 0.00699491, 0.00709491, 0.00719866]])"
      ]
     },
     "execution_count": 14,
     "metadata": {},
     "output_type": "execute_result"
    }
   ],
   "source": [
    "Γ_3_bar = Γ_3 + 1 / 2 * vec(mat(Ψ_1, (k, n)).T @ (np.linalg.inv(modif_Ψ_2)) @ mat(Ψ_1, (k, n))).T\n",
    "Γ_3_bar"
   ]
  },
  {
   "cell_type": "markdown",
   "metadata": {},
   "source": [
    "# $\\tilde{\\Gamma}_0$"
   ]
  },
  {
   "cell_type": "code",
   "execution_count": 15,
   "metadata": {},
   "outputs": [
    {
     "data": {
      "text/plain": [
       "array([[0.03257794]])"
      ]
     },
     "execution_count": 15,
     "metadata": {},
     "output_type": "execute_result"
    }
   ],
   "source": [
    "Γ_0_tilde = Γ_0_bar + Γ_1_bar @ Θ_10 + Γ_2_bar @ Θ_20 + Γ_3_bar @ (np.kron(Θ_10, Θ_10))\n",
    "Γ_0_tilde"
   ]
  },
  {
   "cell_type": "markdown",
   "metadata": {},
   "source": [
    "# $\\tilde{\\Gamma}_1$"
   ]
  },
  {
   "cell_type": "code",
   "execution_count": 16,
   "metadata": {},
   "outputs": [
    {
     "data": {
      "text/plain": [
       "array([[4.78971915e-05, 5.18838140e-05]])"
      ]
     },
     "execution_count": 16,
     "metadata": {},
     "output_type": "execute_result"
    }
   ],
   "source": [
    "Γ_1_tilde = Γ_1_bar @ Θ_11 + Γ_2_bar @ Θ_21 + Γ_3_bar @ (np.kron(Θ_10, Θ_11) + np.kron(Θ_11, Θ_10))\n",
    "Γ_1_tilde"
   ]
  },
  {
   "cell_type": "markdown",
   "metadata": {},
   "source": [
    "# $\\tilde{\\Gamma}_2$"
   ]
  },
  {
   "cell_type": "code",
   "execution_count": 17,
   "metadata": {},
   "outputs": [
    {
     "data": {
      "text/plain": [
       "array([[5.33e-06, 6.66e-06]])"
      ]
     },
     "execution_count": 17,
     "metadata": {},
     "output_type": "execute_result"
    }
   ],
   "source": [
    "Γ_2_tilde = Γ_2_bar @ Θ_22\n",
    "Γ_2_tilde"
   ]
  },
  {
   "cell_type": "markdown",
   "metadata": {},
   "source": [
    "# $\\tilde{\\Gamma}_3$"
   ]
  },
  {
   "cell_type": "code",
   "execution_count": 18,
   "metadata": {},
   "outputs": [
    {
     "data": {
      "text/plain": [
       "array([[2.79545334e-05, 2.92856646e-05, 3.06156626e-05, 3.19470757e-05]])"
      ]
     },
     "execution_count": 18,
     "metadata": {},
     "output_type": "execute_result"
    }
   ],
   "source": [
    "Γ_3_tilde = Γ_2_bar @ Θ_23 + Γ_3_bar @ (np.kron(Θ_11, Θ_11))\n",
    "Γ_3_tilde"
   ]
  },
  {
   "cell_type": "markdown",
   "metadata": {},
   "source": [
    "# $\\tilde{\\Psi}_0$"
   ]
  },
  {
   "cell_type": "code",
   "execution_count": 19,
   "metadata": {},
   "outputs": [
    {
     "data": {
      "text/plain": [
       "array([[0.00011905, 0.00012304, 0.00012703]])"
      ]
     },
     "execution_count": 19,
     "metadata": {},
     "output_type": "execute_result"
    }
   ],
   "source": [
    "Ψ_0_tilde = Γ_1_bar @ Λ_10 + Γ_2_bar @ Λ_20 + Γ_3_bar @ (np.kron(Θ_10, Λ_10) + np.kron(Λ_10, Θ_10))\n",
    "Ψ_0_tilde"
   ]
  },
  {
   "cell_type": "markdown",
   "metadata": {},
   "source": [
    "# $\\tilde{\\Psi}_1$"
   ]
  },
  {
   "cell_type": "code",
   "execution_count": 20,
   "metadata": {},
   "outputs": [],
   "source": [
    "Γ_3_bar_product_term = np.kron(Θ_11, Λ_10) + np.hstack([np.kron(Λ_10, Θ_11[:, [j]]) for j in range(n)])\n",
    "\n",
    "Ψ_1_tilde = Γ_2_bar @ Λ_21 + Γ_3_bar @ Γ_3_bar_product_term"
   ]
  },
  {
   "cell_type": "code",
   "execution_count": 21,
   "metadata": {},
   "outputs": [
    {
     "data": {
      "text/plain": [
       "array([[7.98792514e-05, 8.25415119e-05, 8.52037725e-05, 8.78640512e-05,\n",
       "        9.05268753e-05, 9.31896994e-05]])"
      ]
     },
     "execution_count": 21,
     "metadata": {},
     "output_type": "execute_result"
    }
   ],
   "source": [
    "Ψ_1_tilde"
   ]
  },
  {
   "cell_type": "markdown",
   "metadata": {},
   "source": [
    "# $\\tilde{\\Psi}_2$"
   ]
  },
  {
   "cell_type": "code",
   "execution_count": 22,
   "metadata": {},
   "outputs": [
    {
     "data": {
      "text/plain": [
       "array([[6.59004383e-05, 6.72328397e-05, 6.85652411e-05, 6.98928367e-05,\n",
       "        7.12255199e-05, 7.25582030e-05, 7.38852351e-05, 7.52182000e-05,\n",
       "        7.65511650e-05]])"
      ]
     },
     "execution_count": 22,
     "metadata": {},
     "output_type": "execute_result"
    }
   ],
   "source": [
    "Ψ_2_tilde = Γ_2_bar @ Λ_22 + Γ_3_bar @ np.kron(Λ_10, Λ_10)\n",
    "Ψ_2_tilde"
   ]
  }
 ],
 "metadata": {
  "kernelspec": {
   "display_name": "Python 3",
   "language": "python",
   "name": "python3"
  },
  "language_info": {
   "codemirror_mode": {
    "name": "ipython",
    "version": 3
   },
   "file_extension": ".py",
   "mimetype": "text/x-python",
   "name": "python",
   "nbconvert_exporter": "python",
   "pygments_lexer": "ipython3",
   "version": "3.7.3"
  }
 },
 "nbformat": 4,
 "nbformat_minor": 2
}
